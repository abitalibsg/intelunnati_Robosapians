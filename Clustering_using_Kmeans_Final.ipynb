{
  "nbformat": 4,
  "nbformat_minor": 0,
  "metadata": {
    "colab": {
      "provenance": []
    },
    "kernelspec": {
      "name": "python3",
      "display_name": "Python 3"
    },
    "language_info": {
      "name": "python"
    }
  },
  "cells": [
    {
      "cell_type": "code",
      "execution_count": 36,
      "metadata": {
        "id": "d8GyWW2FMmy_"
      },
      "outputs": [],
      "source": [
        "#Adding various required libraries\n",
        "from ast import increment_lineno\n",
        "import pandas as pd\n",
        "from sklearn.cluster import KMeans\n",
        "import folium\n",
        "import matplotlib.pyplot as plt\n",
        "import seaborn as sns\n",
        "%matplotlib inline"
      ]
    },
    {
      "cell_type": "code",
      "source": [
        "#Code for reading the csv file containing the data\n",
        "df = pd.read_csv(\"/content/Kerala Blackspots with nearest hospitals finalised dataset (csv) (2).csv\")\n",
        "df.head()"
      ],
      "metadata": {
        "colab": {
          "base_uri": "https://localhost:8080/",
          "height": 617
        },
        "id": "BTaXldXqWlrq",
        "outputId": "371be163-36c4-4693-f5a8-7db740a77ad4"
      },
      "execution_count": 37,
      "outputs": [
        {
          "output_type": "execute_result",
          "data": {
            "text/plain": [
              "   Sl. No.    Name of District Name of Police Station  \\\n",
              "0        1  Thiruvananthapuram               Karamana   \n",
              "1        2              Kollam             Chavara PS   \n",
              "2        3  Thiruvananthapuram           CITY TRAFFIC   \n",
              "3        4          Malappuram             KUTTIPURAM   \n",
              "4        5  Thiruvananthapuram          Balaramapuram   \n",
              "\n",
              "                                    Name of Landmark  \\\n",
              "0           Pappanamcode Mosque - Kerala Gramin Bank   \n",
              "1  Regent Lake Palace - 110m before Hindustan Pet...   \n",
              "2                     Tax Towers - Karamana Junction   \n",
              "3       Vyapara Bhavan - 200m after Highway Junction   \n",
              "4         Kodinada Junction - Indian Oil Petrol Pump   \n",
              "\n",
              "              Name of Location  Lattitude  Longitude  \\\n",
              "0        Pappanamcode Junction   8.470460  76.980803   \n",
              "1             Parimanam Temple   8.954698  76.534274   \n",
              "2            Karamana Junction   8.482015  76.967072   \n",
              "3  Kuttipuram Highway Junction  10.842810  76.030021   \n",
              "4       Balaramapuram Junction   8.430501  77.046417   \n",
              "\n",
              "                  Name of Road  HOSPITAL NEAR LATITUDE  \\\n",
              "0  National Highway 66 (NH 66)                8.724141   \n",
              "1  National Highway 66 (NH 66)                8.955805   \n",
              "2  National Highway 66 (NH 66)                8.481656   \n",
              "3  National Highway 66 (NH 66)               10.854681   \n",
              "4  National Highway 66 (NH 66)                8.426988   \n",
              "\n",
              "   HOSPITAL NEAR LONGITUDE  Accident Severity Index Type of Road  \\\n",
              "0                77.028555                      366           NH   \n",
              "1                76.534519                      357           NH   \n",
              "2                76.963152                      314           NH   \n",
              "3                76.037121                      306           NH   \n",
              "4                77.043805                      300           NH   \n",
              "\n",
              "   Number of Fatalities  Sum of Fatal & Grievous Injury Crashes  \n",
              "0                    15                                     102  \n",
              "1                    17                                      99  \n",
              "2                     8                                      94  \n",
              "3                    12                                      86  \n",
              "4                     6                                      92  "
            ],
            "text/html": [
              "\n",
              "\n",
              "  <div id=\"df-da5c9564-5c01-4e7e-857d-d7a2b011dd42\">\n",
              "    <div class=\"colab-df-container\">\n",
              "      <div>\n",
              "<style scoped>\n",
              "    .dataframe tbody tr th:only-of-type {\n",
              "        vertical-align: middle;\n",
              "    }\n",
              "\n",
              "    .dataframe tbody tr th {\n",
              "        vertical-align: top;\n",
              "    }\n",
              "\n",
              "    .dataframe thead th {\n",
              "        text-align: right;\n",
              "    }\n",
              "</style>\n",
              "<table border=\"1\" class=\"dataframe\">\n",
              "  <thead>\n",
              "    <tr style=\"text-align: right;\">\n",
              "      <th></th>\n",
              "      <th>Sl. No.</th>\n",
              "      <th>Name of District</th>\n",
              "      <th>Name of Police Station</th>\n",
              "      <th>Name of Landmark</th>\n",
              "      <th>Name of Location</th>\n",
              "      <th>Lattitude</th>\n",
              "      <th>Longitude</th>\n",
              "      <th>Name of Road</th>\n",
              "      <th>HOSPITAL NEAR LATITUDE</th>\n",
              "      <th>HOSPITAL NEAR LONGITUDE</th>\n",
              "      <th>Accident Severity Index</th>\n",
              "      <th>Type of Road</th>\n",
              "      <th>Number of Fatalities</th>\n",
              "      <th>Sum of Fatal &amp; Grievous Injury Crashes</th>\n",
              "    </tr>\n",
              "  </thead>\n",
              "  <tbody>\n",
              "    <tr>\n",
              "      <th>0</th>\n",
              "      <td>1</td>\n",
              "      <td>Thiruvananthapuram</td>\n",
              "      <td>Karamana</td>\n",
              "      <td>Pappanamcode Mosque - Kerala Gramin Bank</td>\n",
              "      <td>Pappanamcode Junction</td>\n",
              "      <td>8.470460</td>\n",
              "      <td>76.980803</td>\n",
              "      <td>National Highway 66 (NH 66)</td>\n",
              "      <td>8.724141</td>\n",
              "      <td>77.028555</td>\n",
              "      <td>366</td>\n",
              "      <td>NH</td>\n",
              "      <td>15</td>\n",
              "      <td>102</td>\n",
              "    </tr>\n",
              "    <tr>\n",
              "      <th>1</th>\n",
              "      <td>2</td>\n",
              "      <td>Kollam</td>\n",
              "      <td>Chavara PS</td>\n",
              "      <td>Regent Lake Palace - 110m before Hindustan Pet...</td>\n",
              "      <td>Parimanam Temple</td>\n",
              "      <td>8.954698</td>\n",
              "      <td>76.534274</td>\n",
              "      <td>National Highway 66 (NH 66)</td>\n",
              "      <td>8.955805</td>\n",
              "      <td>76.534519</td>\n",
              "      <td>357</td>\n",
              "      <td>NH</td>\n",
              "      <td>17</td>\n",
              "      <td>99</td>\n",
              "    </tr>\n",
              "    <tr>\n",
              "      <th>2</th>\n",
              "      <td>3</td>\n",
              "      <td>Thiruvananthapuram</td>\n",
              "      <td>CITY TRAFFIC</td>\n",
              "      <td>Tax Towers - Karamana Junction</td>\n",
              "      <td>Karamana Junction</td>\n",
              "      <td>8.482015</td>\n",
              "      <td>76.967072</td>\n",
              "      <td>National Highway 66 (NH 66)</td>\n",
              "      <td>8.481656</td>\n",
              "      <td>76.963152</td>\n",
              "      <td>314</td>\n",
              "      <td>NH</td>\n",
              "      <td>8</td>\n",
              "      <td>94</td>\n",
              "    </tr>\n",
              "    <tr>\n",
              "      <th>3</th>\n",
              "      <td>4</td>\n",
              "      <td>Malappuram</td>\n",
              "      <td>KUTTIPURAM</td>\n",
              "      <td>Vyapara Bhavan - 200m after Highway Junction</td>\n",
              "      <td>Kuttipuram Highway Junction</td>\n",
              "      <td>10.842810</td>\n",
              "      <td>76.030021</td>\n",
              "      <td>National Highway 66 (NH 66)</td>\n",
              "      <td>10.854681</td>\n",
              "      <td>76.037121</td>\n",
              "      <td>306</td>\n",
              "      <td>NH</td>\n",
              "      <td>12</td>\n",
              "      <td>86</td>\n",
              "    </tr>\n",
              "    <tr>\n",
              "      <th>4</th>\n",
              "      <td>5</td>\n",
              "      <td>Thiruvananthapuram</td>\n",
              "      <td>Balaramapuram</td>\n",
              "      <td>Kodinada Junction - Indian Oil Petrol Pump</td>\n",
              "      <td>Balaramapuram Junction</td>\n",
              "      <td>8.430501</td>\n",
              "      <td>77.046417</td>\n",
              "      <td>National Highway 66 (NH 66)</td>\n",
              "      <td>8.426988</td>\n",
              "      <td>77.043805</td>\n",
              "      <td>300</td>\n",
              "      <td>NH</td>\n",
              "      <td>6</td>\n",
              "      <td>92</td>\n",
              "    </tr>\n",
              "  </tbody>\n",
              "</table>\n",
              "</div>\n",
              "      <button class=\"colab-df-convert\" onclick=\"convertToInteractive('df-da5c9564-5c01-4e7e-857d-d7a2b011dd42')\"\n",
              "              title=\"Convert this dataframe to an interactive table.\"\n",
              "              style=\"display:none;\">\n",
              "\n",
              "  <svg xmlns=\"http://www.w3.org/2000/svg\" height=\"24px\"viewBox=\"0 0 24 24\"\n",
              "       width=\"24px\">\n",
              "    <path d=\"M0 0h24v24H0V0z\" fill=\"none\"/>\n",
              "    <path d=\"M18.56 5.44l.94 2.06.94-2.06 2.06-.94-2.06-.94-.94-2.06-.94 2.06-2.06.94zm-11 1L8.5 8.5l.94-2.06 2.06-.94-2.06-.94L8.5 2.5l-.94 2.06-2.06.94zm10 10l.94 2.06.94-2.06 2.06-.94-2.06-.94-.94-2.06-.94 2.06-2.06.94z\"/><path d=\"M17.41 7.96l-1.37-1.37c-.4-.4-.92-.59-1.43-.59-.52 0-1.04.2-1.43.59L10.3 9.45l-7.72 7.72c-.78.78-.78 2.05 0 2.83L4 21.41c.39.39.9.59 1.41.59.51 0 1.02-.2 1.41-.59l7.78-7.78 2.81-2.81c.8-.78.8-2.07 0-2.86zM5.41 20L4 18.59l7.72-7.72 1.47 1.35L5.41 20z\"/>\n",
              "  </svg>\n",
              "      </button>\n",
              "\n",
              "\n",
              "\n",
              "    <div id=\"df-83974768-111b-4ce1-9060-dcfc7545c887\">\n",
              "      <button class=\"colab-df-quickchart\" onclick=\"quickchart('df-83974768-111b-4ce1-9060-dcfc7545c887')\"\n",
              "              title=\"Suggest charts.\"\n",
              "              style=\"display:none;\">\n",
              "\n",
              "<svg xmlns=\"http://www.w3.org/2000/svg\" height=\"24px\"viewBox=\"0 0 24 24\"\n",
              "     width=\"24px\">\n",
              "    <g>\n",
              "        <path d=\"M19 3H5c-1.1 0-2 .9-2 2v14c0 1.1.9 2 2 2h14c1.1 0 2-.9 2-2V5c0-1.1-.9-2-2-2zM9 17H7v-7h2v7zm4 0h-2V7h2v10zm4 0h-2v-4h2v4z\"/>\n",
              "    </g>\n",
              "</svg>\n",
              "      </button>\n",
              "    </div>\n",
              "\n",
              "<style>\n",
              "  .colab-df-quickchart {\n",
              "    background-color: #E8F0FE;\n",
              "    border: none;\n",
              "    border-radius: 50%;\n",
              "    cursor: pointer;\n",
              "    display: none;\n",
              "    fill: #1967D2;\n",
              "    height: 32px;\n",
              "    padding: 0 0 0 0;\n",
              "    width: 32px;\n",
              "  }\n",
              "\n",
              "  .colab-df-quickchart:hover {\n",
              "    background-color: #E2EBFA;\n",
              "    box-shadow: 0px 1px 2px rgba(60, 64, 67, 0.3), 0px 1px 3px 1px rgba(60, 64, 67, 0.15);\n",
              "    fill: #174EA6;\n",
              "  }\n",
              "\n",
              "  [theme=dark] .colab-df-quickchart {\n",
              "    background-color: #3B4455;\n",
              "    fill: #D2E3FC;\n",
              "  }\n",
              "\n",
              "  [theme=dark] .colab-df-quickchart:hover {\n",
              "    background-color: #434B5C;\n",
              "    box-shadow: 0px 1px 3px 1px rgba(0, 0, 0, 0.15);\n",
              "    filter: drop-shadow(0px 1px 2px rgba(0, 0, 0, 0.3));\n",
              "    fill: #FFFFFF;\n",
              "  }\n",
              "</style>\n",
              "\n",
              "    <script>\n",
              "      async function quickchart(key) {\n",
              "        const containerElement = document.querySelector('#' + key);\n",
              "        const charts = await google.colab.kernel.invokeFunction(\n",
              "            'suggestCharts', [key], {});\n",
              "      }\n",
              "    </script>\n",
              "\n",
              "      <script>\n",
              "\n",
              "function displayQuickchartButton(domScope) {\n",
              "  let quickchartButtonEl =\n",
              "    domScope.querySelector('#df-83974768-111b-4ce1-9060-dcfc7545c887 button.colab-df-quickchart');\n",
              "  quickchartButtonEl.style.display =\n",
              "    google.colab.kernel.accessAllowed ? 'block' : 'none';\n",
              "}\n",
              "\n",
              "        displayQuickchartButton(document);\n",
              "      </script>\n",
              "      <style>\n",
              "    .colab-df-container {\n",
              "      display:flex;\n",
              "      flex-wrap:wrap;\n",
              "      gap: 12px;\n",
              "    }\n",
              "\n",
              "    .colab-df-convert {\n",
              "      background-color: #E8F0FE;\n",
              "      border: none;\n",
              "      border-radius: 50%;\n",
              "      cursor: pointer;\n",
              "      display: none;\n",
              "      fill: #1967D2;\n",
              "      height: 32px;\n",
              "      padding: 0 0 0 0;\n",
              "      width: 32px;\n",
              "    }\n",
              "\n",
              "    .colab-df-convert:hover {\n",
              "      background-color: #E2EBFA;\n",
              "      box-shadow: 0px 1px 2px rgba(60, 64, 67, 0.3), 0px 1px 3px 1px rgba(60, 64, 67, 0.15);\n",
              "      fill: #174EA6;\n",
              "    }\n",
              "\n",
              "    [theme=dark] .colab-df-convert {\n",
              "      background-color: #3B4455;\n",
              "      fill: #D2E3FC;\n",
              "    }\n",
              "\n",
              "    [theme=dark] .colab-df-convert:hover {\n",
              "      background-color: #434B5C;\n",
              "      box-shadow: 0px 1px 3px 1px rgba(0, 0, 0, 0.15);\n",
              "      filter: drop-shadow(0px 1px 2px rgba(0, 0, 0, 0.3));\n",
              "      fill: #FFFFFF;\n",
              "    }\n",
              "  </style>\n",
              "\n",
              "      <script>\n",
              "        const buttonEl =\n",
              "          document.querySelector('#df-da5c9564-5c01-4e7e-857d-d7a2b011dd42 button.colab-df-convert');\n",
              "        buttonEl.style.display =\n",
              "          google.colab.kernel.accessAllowed ? 'block' : 'none';\n",
              "\n",
              "        async function convertToInteractive(key) {\n",
              "          const element = document.querySelector('#df-da5c9564-5c01-4e7e-857d-d7a2b011dd42');\n",
              "          const dataTable =\n",
              "            await google.colab.kernel.invokeFunction('convertToInteractive',\n",
              "                                                     [key], {});\n",
              "          if (!dataTable) return;\n",
              "\n",
              "          const docLinkHtml = 'Like what you see? Visit the ' +\n",
              "            '<a target=\"_blank\" href=https://colab.research.google.com/notebooks/data_table.ipynb>data table notebook</a>'\n",
              "            + ' to learn more about interactive tables.';\n",
              "          element.innerHTML = '';\n",
              "          dataTable['output_type'] = 'display_data';\n",
              "          await google.colab.output.renderOutput(dataTable, element);\n",
              "          const docLink = document.createElement('div');\n",
              "          docLink.innerHTML = docLinkHtml;\n",
              "          element.appendChild(docLink);\n",
              "        }\n",
              "      </script>\n",
              "    </div>\n",
              "  </div>\n"
            ]
          },
          "metadata": {},
          "execution_count": 37
        }
      ]
    },
    {
      "cell_type": "code",
      "source": [
        "#Assigning columns \"Accident Severity Index\",\"Number of Fatalities\", \"Sum of Fatal & Grievous Injury Crashes\" to a variable 'z'\n",
        "z = df[[\"Accident Severity Index\",\"Number of Fatalities\", \"Sum of Fatal & Grievous Injury Crashes\"]]\n",
        "\n",
        "#Printing z\n",
        "z.head()\n"
      ],
      "metadata": {
        "colab": {
          "base_uri": "https://localhost:8080/",
          "height": 206
        },
        "id": "ol6aoTfVdbkR",
        "outputId": "7874ca18-daf1-42d8-832e-91358f31072c"
      },
      "execution_count": 38,
      "outputs": [
        {
          "output_type": "execute_result",
          "data": {
            "text/plain": [
              "   Accident Severity Index  Number of Fatalities  \\\n",
              "0                      366                    15   \n",
              "1                      357                    17   \n",
              "2                      314                     8   \n",
              "3                      306                    12   \n",
              "4                      300                     6   \n",
              "\n",
              "   Sum of Fatal & Grievous Injury Crashes  \n",
              "0                                     102  \n",
              "1                                      99  \n",
              "2                                      94  \n",
              "3                                      86  \n",
              "4                                      92  "
            ],
            "text/html": [
              "\n",
              "\n",
              "  <div id=\"df-3bf05055-9d4d-4552-b3d8-ad7badb6a51c\">\n",
              "    <div class=\"colab-df-container\">\n",
              "      <div>\n",
              "<style scoped>\n",
              "    .dataframe tbody tr th:only-of-type {\n",
              "        vertical-align: middle;\n",
              "    }\n",
              "\n",
              "    .dataframe tbody tr th {\n",
              "        vertical-align: top;\n",
              "    }\n",
              "\n",
              "    .dataframe thead th {\n",
              "        text-align: right;\n",
              "    }\n",
              "</style>\n",
              "<table border=\"1\" class=\"dataframe\">\n",
              "  <thead>\n",
              "    <tr style=\"text-align: right;\">\n",
              "      <th></th>\n",
              "      <th>Accident Severity Index</th>\n",
              "      <th>Number of Fatalities</th>\n",
              "      <th>Sum of Fatal &amp; Grievous Injury Crashes</th>\n",
              "    </tr>\n",
              "  </thead>\n",
              "  <tbody>\n",
              "    <tr>\n",
              "      <th>0</th>\n",
              "      <td>366</td>\n",
              "      <td>15</td>\n",
              "      <td>102</td>\n",
              "    </tr>\n",
              "    <tr>\n",
              "      <th>1</th>\n",
              "      <td>357</td>\n",
              "      <td>17</td>\n",
              "      <td>99</td>\n",
              "    </tr>\n",
              "    <tr>\n",
              "      <th>2</th>\n",
              "      <td>314</td>\n",
              "      <td>8</td>\n",
              "      <td>94</td>\n",
              "    </tr>\n",
              "    <tr>\n",
              "      <th>3</th>\n",
              "      <td>306</td>\n",
              "      <td>12</td>\n",
              "      <td>86</td>\n",
              "    </tr>\n",
              "    <tr>\n",
              "      <th>4</th>\n",
              "      <td>300</td>\n",
              "      <td>6</td>\n",
              "      <td>92</td>\n",
              "    </tr>\n",
              "  </tbody>\n",
              "</table>\n",
              "</div>\n",
              "      <button class=\"colab-df-convert\" onclick=\"convertToInteractive('df-3bf05055-9d4d-4552-b3d8-ad7badb6a51c')\"\n",
              "              title=\"Convert this dataframe to an interactive table.\"\n",
              "              style=\"display:none;\">\n",
              "\n",
              "  <svg xmlns=\"http://www.w3.org/2000/svg\" height=\"24px\"viewBox=\"0 0 24 24\"\n",
              "       width=\"24px\">\n",
              "    <path d=\"M0 0h24v24H0V0z\" fill=\"none\"/>\n",
              "    <path d=\"M18.56 5.44l.94 2.06.94-2.06 2.06-.94-2.06-.94-.94-2.06-.94 2.06-2.06.94zm-11 1L8.5 8.5l.94-2.06 2.06-.94-2.06-.94L8.5 2.5l-.94 2.06-2.06.94zm10 10l.94 2.06.94-2.06 2.06-.94-2.06-.94-.94-2.06-.94 2.06-2.06.94z\"/><path d=\"M17.41 7.96l-1.37-1.37c-.4-.4-.92-.59-1.43-.59-.52 0-1.04.2-1.43.59L10.3 9.45l-7.72 7.72c-.78.78-.78 2.05 0 2.83L4 21.41c.39.39.9.59 1.41.59.51 0 1.02-.2 1.41-.59l7.78-7.78 2.81-2.81c.8-.78.8-2.07 0-2.86zM5.41 20L4 18.59l7.72-7.72 1.47 1.35L5.41 20z\"/>\n",
              "  </svg>\n",
              "      </button>\n",
              "\n",
              "\n",
              "\n",
              "    <div id=\"df-761d95b9-5560-4136-bb23-2eb0a8a19066\">\n",
              "      <button class=\"colab-df-quickchart\" onclick=\"quickchart('df-761d95b9-5560-4136-bb23-2eb0a8a19066')\"\n",
              "              title=\"Suggest charts.\"\n",
              "              style=\"display:none;\">\n",
              "\n",
              "<svg xmlns=\"http://www.w3.org/2000/svg\" height=\"24px\"viewBox=\"0 0 24 24\"\n",
              "     width=\"24px\">\n",
              "    <g>\n",
              "        <path d=\"M19 3H5c-1.1 0-2 .9-2 2v14c0 1.1.9 2 2 2h14c1.1 0 2-.9 2-2V5c0-1.1-.9-2-2-2zM9 17H7v-7h2v7zm4 0h-2V7h2v10zm4 0h-2v-4h2v4z\"/>\n",
              "    </g>\n",
              "</svg>\n",
              "      </button>\n",
              "    </div>\n",
              "\n",
              "<style>\n",
              "  .colab-df-quickchart {\n",
              "    background-color: #E8F0FE;\n",
              "    border: none;\n",
              "    border-radius: 50%;\n",
              "    cursor: pointer;\n",
              "    display: none;\n",
              "    fill: #1967D2;\n",
              "    height: 32px;\n",
              "    padding: 0 0 0 0;\n",
              "    width: 32px;\n",
              "  }\n",
              "\n",
              "  .colab-df-quickchart:hover {\n",
              "    background-color: #E2EBFA;\n",
              "    box-shadow: 0px 1px 2px rgba(60, 64, 67, 0.3), 0px 1px 3px 1px rgba(60, 64, 67, 0.15);\n",
              "    fill: #174EA6;\n",
              "  }\n",
              "\n",
              "  [theme=dark] .colab-df-quickchart {\n",
              "    background-color: #3B4455;\n",
              "    fill: #D2E3FC;\n",
              "  }\n",
              "\n",
              "  [theme=dark] .colab-df-quickchart:hover {\n",
              "    background-color: #434B5C;\n",
              "    box-shadow: 0px 1px 3px 1px rgba(0, 0, 0, 0.15);\n",
              "    filter: drop-shadow(0px 1px 2px rgba(0, 0, 0, 0.3));\n",
              "    fill: #FFFFFF;\n",
              "  }\n",
              "</style>\n",
              "\n",
              "    <script>\n",
              "      async function quickchart(key) {\n",
              "        const containerElement = document.querySelector('#' + key);\n",
              "        const charts = await google.colab.kernel.invokeFunction(\n",
              "            'suggestCharts', [key], {});\n",
              "      }\n",
              "    </script>\n",
              "\n",
              "      <script>\n",
              "\n",
              "function displayQuickchartButton(domScope) {\n",
              "  let quickchartButtonEl =\n",
              "    domScope.querySelector('#df-761d95b9-5560-4136-bb23-2eb0a8a19066 button.colab-df-quickchart');\n",
              "  quickchartButtonEl.style.display =\n",
              "    google.colab.kernel.accessAllowed ? 'block' : 'none';\n",
              "}\n",
              "\n",
              "        displayQuickchartButton(document);\n",
              "      </script>\n",
              "      <style>\n",
              "    .colab-df-container {\n",
              "      display:flex;\n",
              "      flex-wrap:wrap;\n",
              "      gap: 12px;\n",
              "    }\n",
              "\n",
              "    .colab-df-convert {\n",
              "      background-color: #E8F0FE;\n",
              "      border: none;\n",
              "      border-radius: 50%;\n",
              "      cursor: pointer;\n",
              "      display: none;\n",
              "      fill: #1967D2;\n",
              "      height: 32px;\n",
              "      padding: 0 0 0 0;\n",
              "      width: 32px;\n",
              "    }\n",
              "\n",
              "    .colab-df-convert:hover {\n",
              "      background-color: #E2EBFA;\n",
              "      box-shadow: 0px 1px 2px rgba(60, 64, 67, 0.3), 0px 1px 3px 1px rgba(60, 64, 67, 0.15);\n",
              "      fill: #174EA6;\n",
              "    }\n",
              "\n",
              "    [theme=dark] .colab-df-convert {\n",
              "      background-color: #3B4455;\n",
              "      fill: #D2E3FC;\n",
              "    }\n",
              "\n",
              "    [theme=dark] .colab-df-convert:hover {\n",
              "      background-color: #434B5C;\n",
              "      box-shadow: 0px 1px 3px 1px rgba(0, 0, 0, 0.15);\n",
              "      filter: drop-shadow(0px 1px 2px rgba(0, 0, 0, 0.3));\n",
              "      fill: #FFFFFF;\n",
              "    }\n",
              "  </style>\n",
              "\n",
              "      <script>\n",
              "        const buttonEl =\n",
              "          document.querySelector('#df-3bf05055-9d4d-4552-b3d8-ad7badb6a51c button.colab-df-convert');\n",
              "        buttonEl.style.display =\n",
              "          google.colab.kernel.accessAllowed ? 'block' : 'none';\n",
              "\n",
              "        async function convertToInteractive(key) {\n",
              "          const element = document.querySelector('#df-3bf05055-9d4d-4552-b3d8-ad7badb6a51c');\n",
              "          const dataTable =\n",
              "            await google.colab.kernel.invokeFunction('convertToInteractive',\n",
              "                                                     [key], {});\n",
              "          if (!dataTable) return;\n",
              "\n",
              "          const docLinkHtml = 'Like what you see? Visit the ' +\n",
              "            '<a target=\"_blank\" href=https://colab.research.google.com/notebooks/data_table.ipynb>data table notebook</a>'\n",
              "            + ' to learn more about interactive tables.';\n",
              "          element.innerHTML = '';\n",
              "          dataTable['output_type'] = 'display_data';\n",
              "          await google.colab.output.renderOutput(dataTable, element);\n",
              "          const docLink = document.createElement('div');\n",
              "          docLink.innerHTML = docLinkHtml;\n",
              "          element.appendChild(docLink);\n",
              "        }\n",
              "      </script>\n",
              "    </div>\n",
              "  </div>\n"
            ]
          },
          "metadata": {},
          "execution_count": 38
        }
      ]
    },
    {
      "cell_type": "markdown",
      "source": [
        "Below 3 lines of code is for finding the optimum number of clusters using Elbow method."
      ],
      "metadata": {
        "id": "c0pWpFCguf8x"
      }
    },
    {
      "cell_type": "code",
      "source": [
        "wcss = []\n",
        "for i in range(1,11):\n",
        "    model = KMeans(n_clusters=i)\n",
        "    y_kmeans = model.fit_predict(z)\n",
        "    wcss.append(model.inertia_)"
      ],
      "metadata": {
        "id": "GxfAul0iuhuk"
      },
      "execution_count": null,
      "outputs": []
    },
    {
      "cell_type": "code",
      "source": [
        "model.inertia_\n"
      ],
      "metadata": {
        "colab": {
          "base_uri": "https://localhost:8080/"
        },
        "id": "aUlfR6kOuk8F",
        "outputId": "8787b6e4-0eb2-4e6a-9ba6-66704d885a89"
      },
      "execution_count": 40,
      "outputs": [
        {
          "output_type": "execute_result",
          "data": {
            "text/plain": [
              "9651.894399386847"
            ]
          },
          "metadata": {},
          "execution_count": 40
        }
      ]
    },
    {
      "cell_type": "code",
      "source": [
        "#Plotting it into the Elbow graph\n",
        "plt.plot(range(1, 11), wcss)\n",
        "plt.xlabel('Number of clusters')\n",
        "plt.ylabel('WCSS')\n",
        "plt.title('Elbow Method')\n",
        "plt.show()"
      ],
      "metadata": {
        "id": "PGll6OLGuvEX"
      },
      "execution_count": null,
      "outputs": []
    },
    {
      "cell_type": "markdown",
      "source": [
        "Therefore the optimum number of clusters is 3 from the Elbow graph\n"
      ],
      "metadata": {
        "id": "GCgJStkfvLpd"
      }
    },
    {
      "cell_type": "code",
      "source": [
        "#Clustering the data into 3 clusters\n",
        "model = KMeans(n_clusters=3)\n",
        "y_kmeans = model.fit_predict(z)"
      ],
      "metadata": {
        "colab": {
          "base_uri": "https://localhost:8080/"
        },
        "id": "QnXBkC2P5Fui",
        "outputId": "9dadc578-1b6c-45bf-84fb-be1b085b1349"
      },
      "execution_count": 42,
      "outputs": [
        {
          "output_type": "stream",
          "name": "stderr",
          "text": [
            "/usr/local/lib/python3.10/dist-packages/sklearn/cluster/_kmeans.py:870: FutureWarning: The default value of `n_init` will change from 10 to 'auto' in 1.4. Set the value of `n_init` explicitly to suppress the warning\n",
            "  warnings.warn(\n"
          ]
        }
      ]
    },
    {
      "cell_type": "code",
      "source": [
        "df['y'] = y_kmeans"
      ],
      "metadata": {
        "id": "TvxAsqKp5xkh"
      },
      "execution_count": 43,
      "outputs": []
    },
    {
      "cell_type": "code",
      "source": [
        "#Downloading the data to be clustered\n",
        "df.to_csv(\"final_data_with_cluster.csv\")"
      ],
      "metadata": {
        "id": "lJEnrayb-D2L"
      },
      "execution_count": 44,
      "outputs": []
    },
    {
      "cell_type": "code",
      "source": [
        "#Printing data to be mapped with k means variable 'y'\n",
        "df.head()"
      ],
      "metadata": {
        "id": "nCklZyjt6MBB"
      },
      "execution_count": null,
      "outputs": []
    },
    {
      "cell_type": "code",
      "source": [
        "#Creating clusters\n",
        "plt.scatter(df['Longitude'], df['Lattitude'],c=df['y'],)"
      ],
      "metadata": {
        "colab": {
          "base_uri": "https://localhost:8080/",
          "height": 447
        },
        "id": "8avvL98_yHIA",
        "outputId": "d21f96e6-1829-4d9f-ccd1-43839151da77"
      },
      "execution_count": 47,
      "outputs": [
        {
          "output_type": "execute_result",
          "data": {
            "text/plain": [
              "<matplotlib.collections.PathCollection at 0x7acd04857bb0>"
            ]
          },
          "metadata": {},
          "execution_count": 47
        },
        {
          "output_type": "display_data",
          "data": {
            "text/plain": [
              "<Figure size 640x480 with 1 Axes>"
            ],
            "image/png": "[encoded data removed]"
          },
          "metadata": {}
        }
      ]
    },
    {
      "cell_type": "markdown",
      "source": [
        "below 3 lines are for categorising and grouping the locations based on (low,moderate and high)"
      ],
      "metadata": {
        "id": "GrdYGllYtt8m"
      }
    },
    {
      "cell_type": "code",
      "source": [
        "import seaborn as sns\n",
        "import matplotlib.pyplot as plt"
      ],
      "metadata": {
        "id": "bVygc-AA8JDf"
      },
      "execution_count": 11,
      "outputs": []
    },
    {
      "cell_type": "code",
      "source": [
        "df['y'] = pd.Categorical(df.y)\n",
        "df.y.value_counts()"
      ],
      "metadata": {
        "colab": {
          "base_uri": "https://localhost:8080/"
        },
        "id": "k7ZS87kT8ipk",
        "outputId": "35fa842f-17b5-4a2f-bcc7-0e525286502b"
      },
      "execution_count": 13,
      "outputs": [
        {
          "output_type": "execute_result",
          "data": {
            "text/plain": [
              "1    153\n",
              "0     69\n",
              "2     16\n",
              "Name: y, dtype: int64"
            ]
          },
          "metadata": {},
          "execution_count": 13
        }
      ]
    },
    {
      "cell_type": "code",
      "source": [
        "sns.countplot(x ='y', data = df)"
      ],
      "metadata": {
        "colab": {
          "base_uri": "https://localhost:8080/",
          "height": 470
        },
        "id": "RonEt9bC7Vfe",
        "outputId": "b50aaabf-dcf6-44d9-828f-4b89f7c3b245"
      },
      "execution_count": 21,
      "outputs": [
        {
          "output_type": "execute_result",
          "data": {
            "text/plain": [
              "<Axes: xlabel='y', ylabel='count'>"
            ]
          },
          "metadata": {},
          "execution_count": 21
        },
        {
          "output_type": "display_data",
          "data": {
            "text/plain": [
              "<Figure size 640x480 with 1 Axes>"
            ],
            "image/png": "[encoded data removed]"
          },
          "metadata": {}
        }
      ]
    },
    {
      "cell_type": "code",
      "source": [
        "#Below codes are for deviding the clusters into 3 groups (cluster1,cluster2 and cluster3)\n",
        "cluster1 = df[['Lattitude', \"Longitude\"]][df['y'] == 0].values.tolist()\n",
        "cluster2 = df[['Lattitude', \"Longitude\"]][df['y'] == 1].values.tolist()\n",
        "cluster3 = df[['Lattitude', \"Longitude\"]][df['y'] == 2].values.tolist()\n"
      ],
      "metadata": {
        "id": "Xdl622uivRsh"
      },
      "execution_count": null,
      "outputs": []
    },
    {
      "cell_type": "code",
      "source": [
        "#Printing the Kerala state openstreet map\n",
        "kerala_map = folium.Map(location=[10.8505, 76.2711], zoom_start=8,tiles = \"openstreetmap\")\n",
        "kerala_map"
      ],
      "metadata": {
        "id": "T-M-A8trvvCe"
      },
      "execution_count": null,
      "outputs": []
    },
    {
      "cell_type": "markdown",
      "source": [
        "Below is the code for embedding or mapping the clusters into street map of kerala"
      ],
      "metadata": {
        "id": "yC_6H6eIvho-"
      }
    },
    {
      "cell_type": "code",
      "source": [
        "#for embedding or mapping the clusters into openstreet map of kerala\n",
        "for i in cluster1:\n",
        "    folium.CircleMarker(i, radius=2,color='blue',fill_color='lightblue').add_to(kerala_map)\n",
        "\n",
        "for i in cluster2:\n",
        "    folium.CircleMarker(i, radius=2,color='red',fill_color='lightred').add_to(kerala_map)\n",
        "\n",
        "for i in cluster3:\n",
        "    folium.CircleMarker(i, radius=2,color='green',fill_color='lightgreen').add_to(kerala_map)"
      ],
      "metadata": {
        "id": "wkQOJOgHwZiY"
      },
      "execution_count": null,
      "outputs": []
    },
    {
      "cell_type": "code",
      "source": [
        "#Printing the map\n",
        "kerala_map"
      ],
      "metadata": {
        "id": "vDKCGDF9xa0b"
      },
      "execution_count": null,
      "outputs": []
    }
  ]
}